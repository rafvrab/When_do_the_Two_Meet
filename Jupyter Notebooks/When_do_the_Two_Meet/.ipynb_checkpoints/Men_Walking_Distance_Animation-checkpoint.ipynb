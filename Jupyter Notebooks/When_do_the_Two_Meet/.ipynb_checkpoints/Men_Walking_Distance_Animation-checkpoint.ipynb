{
 "cells": [
  {
   "cell_type": "markdown",
   "id": "be6b78b1",
   "metadata": {},
   "source": [
    "# A Math Problem and and experiment in Dynamic Graphic Solutions"
   ]
  },
  {
   "cell_type": "markdown",
   "id": "a854e165",
   "metadata": {},
   "source": [
    "This is a math problem I saw.  I could easily solve it with pen and paper, but I am using the oportunity to create a dynamic, animated solution."
   ]
  },
  {
   "cell_type": "markdown",
   "id": "ff737fc6",
   "metadata": {},
   "source": [
    "Here is the problem:\n",
    "\n",
    "Two men face each other at a distance of 60 meters. They begin to walk towards each other in a straight line. One walks at 3 meters per second, the other walks at 2 meters per second. How long will it take for them to meet each other?"
   ]
  },
  {
   "cell_type": "markdown",
   "id": "e850dfed",
   "metadata": {},
   "source": [
    "<b>Solution:</b><br><br>\n",
    "They meet after \"t\" seconds.<br><br>\n",
    "The distance traveled by the first man in \"t\" seconds at a speed of 3 meters per second is: \n",
    "Distance_1 = 3 * t<br><br>\n",
    "Similarly, the distance traveled by the second man in \"t\" seconds at a speed of 2 meters per second is: \n",
    "Distance_2 = 2 * t<br><br>\n",
    "Since they are walking towards each other, the sum of the distances they travel will be equal to the initial distance between them, which is 60 meters:\n",
    "Distance_1 + Distance_2 = 60<br><br>\n",
    "Substituting the expressions for Distance_1 and Distance_2:\n",
    "3t + 2t = 60<br><br>\n",
    "Now, combine the like terms:\n",
    "5t = 60<br><br>\n",
    "To solve for \"t,\" divide both sides by 5:\n",
    "t = 60 / 5 = 12 seconds.<br><br>\n",
    "So, it will take them 12 seconds to meet each other.\n"
   ]
  },
  {
   "cell_type": "markdown",
   "id": "f99bd292",
   "metadata": {},
   "source": [
    "| Second | Man 1 (meters) | Man 2 (meters) | Remaining Distance |\n",
    "|--------|----------------|----------------|--------------------|\n",
    "| 0      | 0              | 0              | 60                 |\n",
    "| 1      | 3              | 2              | 55                 |\n",
    "| 2      | 6              | 4              | 50                 |\n",
    "| 3      | 9              | 6              | 45                 |\n",
    "| 4      | 12             | 8              | 40                 |\n",
    "| 5      | 15             | 10             | 35                 |\n",
    "| 6      | 18             | 12             | 30                 |\n",
    "| 7      | 21             | 14             | 25                 |\n",
    "| 8      | 24             | 16             | 20                 |\n",
    "| 9      | 27             | 18             | 15                 |\n",
    "| 10     | 30             | 20             | 10                 |\n",
    "| 11     | 33             | 22             | 5                  |\n",
    "| 12     | 36             | 24             | 0                  |\n"
   ]
  },
  {
   "cell_type": "markdown",
   "id": "21bab7ad",
   "metadata": {},
   "source": [
    "Now let's go to Python and solve the problem with an animation!"
   ]
  },
  {
   "cell_type": "code",
   "execution_count": 1,
   "id": "e58cd6ff",
   "metadata": {},
   "outputs": [],
   "source": [
    "import matplotlib.pyplot as plt\n",
    "from matplotlib.animation import FuncAnimation, PillowWriter"
   ]
  },
  {
   "cell_type": "code",
   "execution_count": 2,
   "id": "4ef84590",
   "metadata": {},
   "outputs": [],
   "source": [
    "# Constants\n",
    "man1_speed = 3  # meters per second\n",
    "man2_speed = 2  # meters per second\n",
    "initial_distance = 60  # meters"
   ]
  },
  {
   "cell_type": "code",
   "execution_count": 3,
   "id": "57b57d00",
   "metadata": {},
   "outputs": [],
   "source": [
    "# Function to update the plot at each frame\n",
    "def update(frame):\n",
    "    # Calculate the distance traveled by each man\n",
    "    distance_man1 = man1_speed * frame\n",
    "    distance_man2 = man2_speed * frame\n",
    "\n",
    "    # Calculate the remaining distance between the two men\n",
    "    remaining_distance = initial_distance - (distance_man1 + distance_man2)\n",
    "\n",
    "    # Clear the previous plot\n",
    "    plt.clf()\n",
    "\n",
    "    # Plot the movement of each man and the remaining distance\n",
    "    plt.plot([0, distance_man1], [0.1, 0.1], 'b', lw=5, label='Man 1')\n",
    "    plt.plot([initial_distance, initial_distance - distance_man2], [0.1, 0.1], 'g', lw=5, label='Man 2')\n",
    "    plt.plot([distance_man1, initial_distance - distance_man2], [0.1, 0.1], 'r', lw=3, label='Remaining Distance')\n",
    "\n",
    "    # Plot the images of walking men facing each other\n",
    "    img_man1 = plt.imread('man1.png')\n",
    "    img_man2 = plt.imread('man2.png')\n",
    "    plt.imshow(img_man1, extent=[distance_man1 - 2, distance_man1 + 2, 0.1, 0.75], aspect='auto', alpha=0.9)\n",
    "    plt.imshow(img_man2, extent=[initial_distance - distance_man2 - 2, initial_distance - distance_man2 + 2, 0.1, 0.75], aspect='auto', alpha=0.9)\n",
    "\n",
    "    # Annotate the distance each man has walked and the remaining distance\n",
    "    plt.annotate(f'Man 1: {distance_man1:.1f} m', xy=(distance_man1, 0.25), fontsize=10, color='blue')\n",
    "    plt.annotate(f'Man 2: {distance_man2:.1f} m', xy=(initial_distance - distance_man2, 0.25), fontsize=10, color='green')\n",
    "    plt.annotate(f'Remaining Distance: {remaining_distance:.1f} m', xy=(initial_distance / 2, 0.2), ha='center', fontsize=10, color='red')\n",
    "\n",
    "    # Annotate the seconds elapsed\n",
    "    plt.annotate(f'Seconds Elapsed: {frame}', xy=(initial_distance / 2, 0), ha='center', fontsize=12)\n",
    "\n",
    "    # Set plot properties\n",
    "    plt.xlim(-5, initial_distance + 5)\n",
    "    plt.ylim(0, 1.5)\n",
    "    plt.xticks([])\n",
    "    plt.yticks([])\n",
    "    plt.xlabel('Distance (meters)')\n",
    "    plt.title('Movement of Two Men Meeting Each Other')\n",
    "    plt.grid(False)"
   ]
  },
  {
   "cell_type": "code",
   "execution_count": 4,
   "id": "fd0fd5f9",
   "metadata": {},
   "outputs": [
    {
     "data": {
      "image/png": "[encoded data removed]",
      "text/plain": [
       "<Figure size 640x480 with 1 Axes>"
      ]
     },
     "metadata": {},
     "output_type": "display_data"
    }
   ],
   "source": [
    "# Create the animation\n",
    "animation = FuncAnimation(plt.gcf(), update, frames=range(0, 13), interval=1000)\n",
    "\n",
    "# Save the animation as a GIF\n",
    "writer = PillowWriter(fps=1, bitrate=1800)\n",
    "animation.save('meeting_animation.gif', writer=writer)\n",
    "\n",
    "# Show the animation (optional)\n",
    "plt.show()\n"
   ]
  }
 ],
 "metadata": {
  "kernelspec": {
   "display_name": "Python 3 (ipykernel)",
   "language": "python",
   "name": "python3"
  },
  "language_info": {
   "codemirror_mode": {
    "name": "ipython",
    "version": 3
   },
   "file_extension": ".py",
   "mimetype": "text/x-python",
   "name": "python",
   "nbconvert_exporter": "python",
   "pygments_lexer": "ipython3",
   "version": "3.10.9"
  }
 },
 "nbformat": 4,
 "nbformat_minor": 5
}
